{
 "cells": [
  {
   "cell_type": "code",
   "execution_count": 22,
   "id": "4e19ec61",
   "metadata": {},
   "outputs": [
    {
     "name": "stdout",
     "output_type": "stream",
     "text": [
      "hello\n",
      "Hello World\n",
      "Jane says 'Hi, I'm learning python'\n"
     ]
    },
    {
     "data": {
      "text/plain": [
       "74.9808526933878"
      ]
     },
     "execution_count": 22,
     "metadata": {},
     "output_type": "execute_result"
    }
   ],
   "source": [
    "# Define the function \"say_hello\" so it prints \"Hello!\" when called.\n",
    "def sayhello():\n",
    "    print(\"hello\")\n",
    "    \n",
    "#call function\n",
    "sayhello()\n",
    "\n",
    "def saysomething(something):\n",
    "    print(something)\n",
    "    \n",
    "#call function\n",
    "saysomething(\"Hello World\")\n",
    "\n",
    "Janesays=\"Jane says 'Hi, I'm learning python'\"\n",
    "\n",
    "saysomething(Janesays)\n",
    "\n",
    " \n",
    "def passing_math_percentage(passing_math_count, total_student_count):\n",
    "    return passing_math_count / float(total_student_count)*100\n",
    "\n",
    "passing_math_count = 29370\n",
    "total_student_count = 39170\n",
    "\n",
    "passing_math_percentage(passing_math_count, total_student_count)"
   ]
  },
  {
   "cell_type": "code",
   "execution_count": 17,
   "id": "3ab1626a",
   "metadata": {},
   "outputs": [
    {
     "data": {
      "text/plain": [
       "74.9808526933878"
      ]
     },
     "execution_count": 17,
     "metadata": {},
     "output_type": "execute_result"
    }
   ],
   "source": [
    "def passing_math_percent(pass_math_count, student_count):\n",
    "    return pass_math_count / float(student_count) * 100\n",
    "\n",
    "passing_math_count = 29370\n",
    "total_student_count = 39170\n",
    "\n",
    "# Call the function.\n",
    "passing_math_percent(passing_math_count, total_student_count)"
   ]
  },
  {
   "cell_type": "code",
   "execution_count": 36,
   "id": "435b18b1",
   "metadata": {},
   "outputs": [
    {
     "name": "stdout",
     "output_type": "stream",
     "text": [
      "92\n",
      "85\n",
      "87\n",
      "98\n",
      "5,324,523.1\n"
     ]
    },
    {
     "data": {
      "text/plain": [
       "0    92\n",
       "1    85\n",
       "2    87\n",
       "3    78\n",
       "dtype: object"
      ]
     },
     "execution_count": 36,
     "metadata": {},
     "output_type": "execute_result"
    }
   ],
   "source": [
    "# A list of my grades.\n",
    "my_grades = ['B', 'C', 'B' , 'D']\n",
    "\n",
    "import pandas as pd\n",
    "my_grades=pd.Series(my_grades)\n",
    "\n",
    "my_grades\n",
    "\n",
    "my_grades.map({\"B\":\"A\", \"C\":\"B\", \"D\":\"C\"})\n",
    "\n",
    "# Using the format() function.\n",
    "my_grades = [92.34, 84.56, 86.78, 98.32]\n",
    "\n",
    "for grade in my_grades:\n",
    "    print(\"{:,.0f}\".format(grade))\n",
    "    \n",
    "longnum=5324523.09090\n",
    "print(\"{:,.1f}\".format(longnum))\n",
    "\n",
    "# Convert the numerical grades to a Series since we're going to apply function to it.\n",
    "my_grades = pd.Series([92.34, 84.56, 86.78, 78.32])\n",
    "my_grades.map(\"{:.0f}\".format)"
   ]
  },
  {
   "cell_type": "code",
   "execution_count": 19,
   "id": "196cacc1",
   "metadata": {},
   "outputs": [
    {
     "data": {
      "text/plain": [
       "'Arf Arf'"
      ]
     },
     "execution_count": 19,
     "metadata": {},
     "output_type": "execute_result"
    }
   ],
   "source": [
    "#class practice\n",
    "\n",
    "class Cat:\n",
    "\n",
    "    def __init__(self,name):\n",
    "        self.name=name\n",
    "    \n",
    "firstcat=Cat(\"fluffy\")\n",
    "secondcat=Cat(\"Garfield\")\n",
    "\n",
    "firstcat.name\n",
    "secondcat.name\n",
    "\n",
    "class Dog:\n",
    "    def __init__(self, name, color, sound):\n",
    "        self.name = name\n",
    "        self.color = color\n",
    "        self.sound = sound\n",
    "        \n",
    "    def bark(self):\n",
    "        return self.sound + \" \" + self.sound\n",
    "    \n",
    "firstdog=Dog(\"Fido\", \"Brown\", \"Woof\")\n",
    "seconddog=Dog(\"Lady\", \"white\", \"Arf\")\n",
    "\n",
    "firstdog.name\n",
    "firstdog.color\n",
    "firstdog.bark()\n",
    "\n",
    "seconddog.name\n",
    "seconddog.color\n",
    "seconddog.bark()"
   ]
  },
  {
   "cell_type": "code",
   "execution_count": null,
   "id": "1c715580",
   "metadata": {},
   "outputs": [],
   "source": []
  }
 ],
 "metadata": {
  "kernelspec": {
   "display_name": "PythonData",
   "language": "python",
   "name": "pythondata"
  },
  "language_info": {
   "codemirror_mode": {
    "name": "ipython",
    "version": 3
   },
   "file_extension": ".py",
   "mimetype": "text/x-python",
   "name": "python",
   "nbconvert_exporter": "python",
   "pygments_lexer": "ipython3",
   "version": "3.7.13"
  }
 },
 "nbformat": 4,
 "nbformat_minor": 5
}
