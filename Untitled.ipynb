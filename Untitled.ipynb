{
 "cells": [
  {
   "cell_type": "code",
   "execution_count": null,
   "id": "ea7c51e8",
   "metadata": {},
   "outputs": [],
   "source": [
    "# Import Dependencies\n",
    "import pandas as db \n",
    "\n",
    "\n"
   ]
  },
  {
   "cell_type": "code",
   "execution_count": null,
   "id": "dab4da40",
   "metadata": {},
   "outputs": [],
   "source": [
    "# Make a reference to the books.csv file path\n",
    "\n",
    "\n"
   ]
  },
  {
   "cell_type": "code",
   "execution_count": null,
   "id": "25f6ca56",
   "metadata": {},
   "outputs": [],
   "source": [
    "# Import the books.csv file as a DataFrame with utf-8 encoding.\n",
    "\n"
   ]
  },
  {
   "cell_type": "code",
   "execution_count": null,
   "id": "532d0639",
   "metadata": {},
   "outputs": [],
   "source": [
    "#  Get the date types of each column.\n",
    "# Get a list of all columns within the DataFrame\n",
    "# Remove unecessary columns from the DataFrame and save the new DataFrame\n",
    "# Only keep: \"isbn\", \"original_publication_year\", \"original_title\", \"authors\",\n",
    "# \"ratings_1\", \"ratings_2\", \"ratings_3\", \"ratings_4\", \"ratings_5\"\n",
    "# Rename the headers to be more explanatory"
   ]
  }
 ],
 "metadata": {
  "kernelspec": {
   "display_name": "PythonData",
   "language": "python",
   "name": "pythondata"
  },
  "language_info": {
   "codemirror_mode": {
    "name": "ipython",
    "version": 3
   },
   "file_extension": ".py",
   "mimetype": "text/x-python",
   "name": "python",
   "nbconvert_exporter": "python",
   "pygments_lexer": "ipython3",
   "version": "3.7.13"
  }
 },
 "nbformat": 4,
 "nbformat_minor": 5
}
